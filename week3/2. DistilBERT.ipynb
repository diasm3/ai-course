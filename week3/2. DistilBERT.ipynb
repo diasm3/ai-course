{
  "cells": [
    {
      "cell_type": "markdown",
      "metadata": {
        "id": "sbgz49PvHhLt"
      },
      "source": [
        "# DistilBERT로 자연어 추론(Natural Language Inference) 구현하기\n",
        "\n",
        "이번 실습에서는 pre-trained된 DistilBERT를 불러와 MNLI(Multi-genre Natural Language Inference) 데이터셋에 적용합니다. MNLI 과제는 두 문장(premise와 hypothesis)의 관계를 예측하는 문제입니다."
      ]
    },
    {
      "cell_type": "code",
      "execution_count": 1,
      "metadata": {
        "colab": {
          "base_uri": "https://localhost:8080/"
        },
        "collapsed": true,
        "executionInfo": {
          "elapsed": 21611,
          "status": "ok",
          "timestamp": 1743318725664,
          "user": {
            "displayName": "조승혁",
            "userId": "15759752471844115325"
          },
          "user_tz": -540
        },
        "id": "1LqgujQUbv6X",
        "outputId": "ed6e62c9-a3a3-48be-dce5-6bac80be706c"
      },
      "outputs": [
        {
          "name": "stdout",
          "output_type": "stream",
          "text": [
            "Requirement already satisfied: tqdm in /opt/homebrew/Caskroom/miniconda/base/envs/mcp/lib/python3.11/site-packages (4.67.1)\n",
            "Requirement already satisfied: boto3 in /opt/homebrew/Caskroom/miniconda/base/envs/mcp/lib/python3.11/site-packages (1.37.31)\n",
            "Requirement already satisfied: requests in /opt/homebrew/Caskroom/miniconda/base/envs/mcp/lib/python3.11/site-packages (2.32.3)\n",
            "Requirement already satisfied: regex in /opt/homebrew/Caskroom/miniconda/base/envs/mcp/lib/python3.11/site-packages (2024.11.6)\n",
            "Requirement already satisfied: sentencepiece in /opt/homebrew/Caskroom/miniconda/base/envs/mcp/lib/python3.11/site-packages (0.2.0)\n",
            "Requirement already satisfied: sacremoses in /opt/homebrew/Caskroom/miniconda/base/envs/mcp/lib/python3.11/site-packages (0.1.1)\n",
            "Requirement already satisfied: datasets in /opt/homebrew/Caskroom/miniconda/base/envs/mcp/lib/python3.11/site-packages (3.5.0)\n",
            "Requirement already satisfied: pandas in /opt/homebrew/Caskroom/miniconda/base/envs/mcp/lib/python3.11/site-packages (2.2.3)\n",
            "Requirement already satisfied: botocore<1.38.0,>=1.37.31 in /opt/homebrew/Caskroom/miniconda/base/envs/mcp/lib/python3.11/site-packages (from boto3) (1.37.31)\n",
            "Requirement already satisfied: jmespath<2.0.0,>=0.7.1 in /opt/homebrew/Caskroom/miniconda/base/envs/mcp/lib/python3.11/site-packages (from boto3) (1.0.1)\n",
            "Requirement already satisfied: s3transfer<0.12.0,>=0.11.0 in /opt/homebrew/Caskroom/miniconda/base/envs/mcp/lib/python3.11/site-packages (from boto3) (0.11.4)\n",
            "Requirement already satisfied: charset_normalizer<4,>=2 in /opt/homebrew/Caskroom/miniconda/base/envs/mcp/lib/python3.11/site-packages (from requests) (3.4.1)\n",
            "Requirement already satisfied: idna<4,>=2.5 in /opt/homebrew/Caskroom/miniconda/base/envs/mcp/lib/python3.11/site-packages (from requests) (3.10)\n",
            "Requirement already satisfied: urllib3<3,>=1.21.1 in /opt/homebrew/Caskroom/miniconda/base/envs/mcp/lib/python3.11/site-packages (from requests) (2.3.0)\n",
            "Requirement already satisfied: certifi>=2017.4.17 in /opt/homebrew/Caskroom/miniconda/base/envs/mcp/lib/python3.11/site-packages (from requests) (2025.1.31)\n",
            "Requirement already satisfied: click in /opt/homebrew/Caskroom/miniconda/base/envs/mcp/lib/python3.11/site-packages (from sacremoses) (8.1.8)\n",
            "Requirement already satisfied: joblib in /opt/homebrew/Caskroom/miniconda/base/envs/mcp/lib/python3.11/site-packages (from sacremoses) (1.4.2)\n",
            "Requirement already satisfied: filelock in /opt/homebrew/Caskroom/miniconda/base/envs/mcp/lib/python3.11/site-packages (from datasets) (3.18.0)\n",
            "Requirement already satisfied: numpy>=1.17 in /opt/homebrew/Caskroom/miniconda/base/envs/mcp/lib/python3.11/site-packages (from datasets) (2.2.4)\n",
            "Requirement already satisfied: pyarrow>=15.0.0 in /opt/homebrew/Caskroom/miniconda/base/envs/mcp/lib/python3.11/site-packages (from datasets) (19.0.1)\n",
            "Requirement already satisfied: dill<0.3.9,>=0.3.0 in /opt/homebrew/Caskroom/miniconda/base/envs/mcp/lib/python3.11/site-packages (from datasets) (0.3.8)\n",
            "Requirement already satisfied: xxhash in /opt/homebrew/Caskroom/miniconda/base/envs/mcp/lib/python3.11/site-packages (from datasets) (3.5.0)\n",
            "Requirement already satisfied: multiprocess<0.70.17 in /opt/homebrew/Caskroom/miniconda/base/envs/mcp/lib/python3.11/site-packages (from datasets) (0.70.16)\n",
            "Requirement already satisfied: fsspec<=2024.12.0,>=2023.1.0 in /opt/homebrew/Caskroom/miniconda/base/envs/mcp/lib/python3.11/site-packages (from fsspec[http]<=2024.12.0,>=2023.1.0->datasets) (2024.12.0)\n",
            "Requirement already satisfied: aiohttp in /opt/homebrew/Caskroom/miniconda/base/envs/mcp/lib/python3.11/site-packages (from datasets) (3.11.15)\n",
            "Requirement already satisfied: huggingface-hub>=0.24.0 in /opt/homebrew/Caskroom/miniconda/base/envs/mcp/lib/python3.11/site-packages (from datasets) (0.30.1)\n",
            "Requirement already satisfied: packaging in /opt/homebrew/Caskroom/miniconda/base/envs/mcp/lib/python3.11/site-packages (from datasets) (24.2)\n",
            "Requirement already satisfied: pyyaml>=5.1 in /opt/homebrew/Caskroom/miniconda/base/envs/mcp/lib/python3.11/site-packages (from datasets) (6.0.2)\n",
            "Requirement already satisfied: python-dateutil>=2.8.2 in /opt/homebrew/Caskroom/miniconda/base/envs/mcp/lib/python3.11/site-packages (from pandas) (2.9.0.post0)\n",
            "Requirement already satisfied: pytz>=2020.1 in /opt/homebrew/Caskroom/miniconda/base/envs/mcp/lib/python3.11/site-packages (from pandas) (2025.2)\n",
            "Requirement already satisfied: tzdata>=2022.7 in /opt/homebrew/Caskroom/miniconda/base/envs/mcp/lib/python3.11/site-packages (from pandas) (2025.2)\n",
            "Requirement already satisfied: aiohappyeyeballs>=2.3.0 in /opt/homebrew/Caskroom/miniconda/base/envs/mcp/lib/python3.11/site-packages (from aiohttp->datasets) (2.6.1)\n",
            "Requirement already satisfied: aiosignal>=1.1.2 in /opt/homebrew/Caskroom/miniconda/base/envs/mcp/lib/python3.11/site-packages (from aiohttp->datasets) (1.3.2)\n",
            "Requirement already satisfied: attrs>=17.3.0 in /opt/homebrew/Caskroom/miniconda/base/envs/mcp/lib/python3.11/site-packages (from aiohttp->datasets) (25.3.0)\n",
            "Requirement already satisfied: frozenlist>=1.1.1 in /opt/homebrew/Caskroom/miniconda/base/envs/mcp/lib/python3.11/site-packages (from aiohttp->datasets) (1.5.0)\n",
            "Requirement already satisfied: multidict<7.0,>=4.5 in /opt/homebrew/Caskroom/miniconda/base/envs/mcp/lib/python3.11/site-packages (from aiohttp->datasets) (6.3.0)\n",
            "Requirement already satisfied: propcache>=0.2.0 in /opt/homebrew/Caskroom/miniconda/base/envs/mcp/lib/python3.11/site-packages (from aiohttp->datasets) (0.3.1)\n",
            "Requirement already satisfied: yarl<2.0,>=1.17.0 in /opt/homebrew/Caskroom/miniconda/base/envs/mcp/lib/python3.11/site-packages (from aiohttp->datasets) (1.18.3)\n",
            "Requirement already satisfied: typing-extensions>=3.7.4.3 in /opt/homebrew/Caskroom/miniconda/base/envs/mcp/lib/python3.11/site-packages (from huggingface-hub>=0.24.0->datasets) (4.13.0)\n",
            "Requirement already satisfied: six>=1.5 in /opt/homebrew/Caskroom/miniconda/base/envs/mcp/lib/python3.11/site-packages (from python-dateutil>=2.8.2->pandas) (1.17.0)\n",
            "Requirement already satisfied: aiosignal>=1.1.2 in /opt/homebrew/Caskroom/miniconda/base/envs/mcp/lib/python3.11/site-packages (from aiohttp->datasets) (1.3.2)\n",
            "Requirement already satisfied: attrs>=17.3.0 in /opt/homebrew/Caskroom/miniconda/base/envs/mcp/lib/python3.11/site-packages (from aiohttp->datasets) (25.3.0)\n",
            "Requirement already satisfied: frozenlist>=1.1.1 in /opt/homebrew/Caskroom/miniconda/base/envs/mcp/lib/python3.11/site-packages (from aiohttp->datasets) (1.5.0)\n",
            "Requirement already satisfied: multidict<7.0,>=4.5 in /opt/homebrew/Caskroom/miniconda/base/envs/mcp/lib/python3.11/site-packages (from aiohttp->datasets) (6.3.0)\n",
            "Requirement already satisfied: propcache>=0.2.0 in /opt/homebrew/Caskroom/miniconda/base/envs/mcp/lib/python3.11/site-packages (from aiohttp->datasets) (0.3.1)\n",
            "Requirement already satisfied: yarl<2.0,>=1.17.0 in /opt/homebrew/Caskroom/miniconda/base/envs/mcp/lib/python3.11/site-packages (from aiohttp->datasets) (1.18.3)\n",
            "Requirement already satisfied: typing-extensions>=3.7.4.3 in /opt/homebrew/Caskroom/miniconda/base/envs/mcp/lib/python3.11/site-packages (from huggingface-hub>=0.24.0->datasets) (4.13.0)\n",
            "Requirement already satisfied: six>=1.5 in /opt/homebrew/Caskroom/miniconda/base/envs/mcp/lib/python3.11/site-packages (from python-dateutil>=2.8.2->pandas) (1.17.0)\n"
          ]
        }
      ],
      "source": [
        "!pip install tqdm boto3 requests regex sentencepiece sacremoses datasets pandas"
      ]
    },
    {
      "cell_type": "markdown",
      "metadata": {
        "id": "6YP3FxG9IF7O"
      },
      "source": [
        "필요한 라이브러리를 불러오고 데이터를 준비합니다. DistilBERT 모델을 위한 토크나이저도 불러옵니다."
      ]
    },
    {
      "cell_type": "code",
      "execution_count": null,
      "metadata": {
        "colab": {
          "base_uri": "https://localhost:8080/",
          "height": 308,
          "referenced_widgets": [
            "2733d8b46cf740038122c33ce3b34624",
            "0c86975074f549458f7866684794f75d",
            "ba44b4a0d3274795b8709a740926f7ce",
            "bd15d1af512b4fefaaf63c5fe345272f",
            "63f72ab3150e49cabe34a0c0c6acb06e",
            "54ff6651b8d4452cab79a78f35c76476",
            "e8442c7d752d46b087548ba5ecf18e94",
            "e6338e1407a1450dbbe0618584251008",
            "12086b6e9292461cbe9e5b7f117ae60f",
            "96e562c1b52f4580bd07e601c95b836f",
            "859e66d7069a4cbda2066af02a217aea",
            "f6690801945641528c251d4644b93dd2",
            "7cccf8c4adc54ff6a07944b8951d049a",
            "4fddf66e3b334ccab021c663342b8eb1",
            "3754441121dc4636a59ce43f505d479d",
            "990e92483b8844028f4673531f0d0ca7",
            "224731885aee40c6a9ea4e403bcd76ed",
            "eec52b72113644bcae16128375f1e791",
            "188c7bfcdd1d42baa922b4d6ce0e35ac",
            "83329c6c8dbe4cbf844bc8e8f6f73901",
            "e391cb9e68094ab282a19da6419fc30d",
            "4fd1ed8123d44bfa8583258037fbd438",
            "16e3b5ad591a4839bc44f8f57075a66e",
            "76d3584208f540ed9ddad8f37e1a7ca9",
            "bcbd69c9398e4fafa4f04fc98dd8c9e1",
            "fa83346546294e12b266f367d29fa013",
            "34ef0e04dbfb41da8040d6f3b519eca2",
            "9e1a25905b4a4a8d8e53b7ea66d955ba",
            "4831c6a0e5da462cbb4fd774eeaf6771",
            "6ce3258b7af54a8f99c1254f7c35a7c8",
            "7060a81d05f14184b1d4ad85f6d65f78",
            "3420966778e74887a31d81ee4beb17d1",
            "2a9866c086fb4fdc800797b311af946f",
            "a626029c14c347c7b4b7da5301cdb47f",
            "74f6a0d88274467ab7b1e3138e15b985",
            "269565d1ba7d4885bcb22886fd2e508c",
            "29dcb1bc83254bdcb199dbaabd3be4a7",
            "2df8261e958c4003b480878c56d950cc",
            "4718dc3fa804411a86c915bc03ac0860",
            "94f60b674c02473e9518d5c718bd5852",
            "fbf089c1ca394a0dba7a658a18a6f2e1",
            "05662f137d5b40ddb349e31aed80338f",
            "0f6ba2c15d564ffcaee51a34e98520da",
            "867ac01076db45028d8757497ed6741f"
          ]
        },
        "executionInfo": {
          "elapsed": 37673,
          "status": "ok",
          "timestamp": 1743318763346,
          "user": {
            "displayName": "조승혁",
            "userId": "15759752471844115325"
          },
          "user_tz": -540
        },
        "id": "6lGiZUoPby6e",
        "outputId": "986e32f2-206a-413b-c3fd-13d526491d8a"
      },
      "outputs": [
        {
          "name": "stderr",
          "output_type": "stream",
          "text": [
            "Using cache found in /Users/semyungpark/.cache/torch/hub/huggingface_pytorch-transformers_main\n"
          ]
        }
      ],
      "source": [
        "import torch\n",
        "import pandas as pd\n",
        "from torch.utils.data import DataLoader, Dataset\n",
        "from torch import nn\n",
        "import numpy as np\n",
        "import matplotlib.pyplot as plt\n",
        "import random\n",
        "\n",
        "# 경로 설정 (필요시 수정)\n",
        "path = '/Users/semyungpark/Documents/homework/data/MNLI'\n",
        "\n",
        "# MNLI 데이터셋 로드 함수\n",
        "def load_data(path, nrows=None):\n",
        "    df = pd.read_csv(path, nrows=nrows, keep_default_na=False)\n",
        "    data = []\n",
        "    for _, row in df.iterrows():\n",
        "        if len(row['premise']) * len(row['hypothesis']) != 0:\n",
        "            data.append({'premise': row['premise'], 'hypothesis': row['hypothesis'], 'label': row['label']})\n",
        "    return data\n",
        "\n",
        "# 데이터 로드 (각각 1000개의 예시만 사용)\n",
        "train_data = load_data(path + '/train.csv', nrows=1000)\n",
        "test_data = load_data(path + '/validation_matched.csv', nrows=1000)\n",
        "\n",
        "# 토크나이저 로드 \n",
        "tokenizer = torch.hub.load('huggingface/pytorch-transformers', 'tokenizer', 'distilbert-base-uncased')"
      ]
    },
    {
      "cell_type": "markdown",
      "metadata": {
        "id": "Cvfl_uFLIMWO"
      },
      "source": [
        "# 데이터셋과 DataLoader 구현\n",
        "\n",
        "MNLI 데이터에서 두 문장(premise, hypothesis)을 모델에 입력하기 위해서는 특별한 처리가 필요합니다. \n",
        "두 문장을 적절하게 토큰화하고 통합하여 모델에 제공해야 합니다."
      ]
    },
    {
      "cell_type": "code",
      "execution_count": null,
      "metadata": {
        "colab": {
          "base_uri": "https://localhost:8080/",
          "height": 241,
          "referenced_widgets": [
            "f3c64bc3666145e6976db0d62765daf1",
            "97aae33a82c54dddb4eb123af989d911",
            "08ca056b6f8e4ab6948945e08e281088",
            "32b40a27a2f4486bb09fbf77c10c6d1d",
            "a1a034be010a4c4eb44e7752f1a43bed",
            "288a4871149d44c892dbb3b8514ee8f7",
            "cee4cf5246a4445ba3539d2b23db95d4",
            "d155f367e9b14d2b9204772c8fc09582",
            "4c1e0ce027e54be68d366b79b2b3c127",
            "f75e62bc331c4de987344866e450c79e",
            "ae9bbcee50f64bfe970d952bb004e57e",
            "27c09ca6d50e47b3b268c5df83b86b0d",
            "50327c1399b14d669faffd5e880da60c",
            "f0d7d2ab32e24e01a377481ad12538c9",
            "49108d0d2731431eb20bfc304db5f0db",
            "315f364c0ed545e19b5584f4b009cad3",
            "506f656a99c045d29a13d055a2943212",
            "71b47894341b4811bbf33ea9f677f560",
            "29a432d0381a4c68a3e3038d5f2db6c5",
            "6a31a1ab39c34b3a8e081040f198284a",
            "4a0c8be47fef4c25b45088bed6ca0c00",
            "f30b12aed3784764822927c4deb24794",
            "b9c0de55ffa840798447b9afc35f348a",
            "54bd0eea32ca4305bab176efd5a0949d",
            "ee8c598613b0447c9a89816eeb924f55",
            "8a136f2b1e934568a6089d83168d842a",
            "b5942b577c3c40609e5017da7c62ca5e",
            "fd5b11f1f3a24e5e9cee215d534dc77a",
            "aa95c2f3d5dd438aa43afb8d280f4e9d",
            "83517e8cd1cf4628931c1b0e8132ccb1",
            "ce5230453d8b408b81521c550514ec27",
            "71d6279b786146c98ed0ab3ecb04f358",
            "47e3e55c8ec547b2bedd30cd2ca4f899",
            "f659989964de4a738d439a7ab887386e",
            "f05cfa8a420e4baebe4323b19e30a3ae",
            "57e48c2909fe4c05b629e078dd647a7c",
            "93a0768579c3425b9e4617e3b8dfd808",
            "378d3f05b8f54811962c283990094422",
            "46851605fa4a418da43115890c1d4780",
            "6d5de7b87191496aa4b974f2e9028324",
            "a00d36edb1cd48d9a331f6861f0e9ff4",
            "1d9ca3cedc9e4f88899f8e1e424f916a",
            "1c1b825ebd764854ad34b194db719d22",
            "ab5e43f497bc4ebca5f7acb345513d1e",
            "fa46b5d89dd9489a854a2335b0a936e1",
            "a7fa012542d7433bbc6ababe2dc4579f",
            "c38eb0d7e30d4fc3bdbc96000d7ac823",
            "6b704f9d79434811ba871f665183797a",
            "74bc7d2276e84546863fa911706ee2c3",
            "8c353e9640a0454399be68192a5e5eff",
            "27a6ce3323fa4c70904de4206cbc1b41",
            "f2e5a963c098400d96eb1b1ee98990ad",
            "56213d7aa0314203804eda2fd71aa2a1",
            "311e9b7fa20e42f5b892e3825a4eb1ce",
            "70ee9950dc714b0dac55ffb8dadba4ed",
            "f3cc1107287347948dc63e6d4a88a5df",
            "15f32a7619a846a3a810b29e1bb10f8d",
            "9b5df20c73814b9a85756fc4b601ec32",
            "fde9f0aea8ea4e62a2942c33b589cb9b",
            "e32cbe0d0d5f43b9ac890dac7be91924",
            "787f095a5c9c4580ae22fb3eb1aefbb6",
            "96355a8679774b43adbcc75bbd65330a",
            "54e9b7d14aba401f816ae3ac5b42b94c",
            "99f98da451d14d3c9b9a485beb3f4aa6",
            "6e4ddd250faf43c896a90af6c239cac8",
            "02239bc9db88414b85f7ed122403acba",
            "9e24258337304405a40476fc0e32ebbb",
            "3108fb0c59c142b8a1e47a49f3e24690",
            "a8fe339a1f7d4671bfd86842753b2f65",
            "1f49a21e9f5248e582467b30c262354a",
            "8b48ce3ac24545caab626468b12a5e19",
            "489f4dcaca3c4f41856687bb46226cdf",
            "93f0f6740df74927a6a36d8c10da3473",
            "5e12f4e0c76f42098282eadff750eabf",
            "ccb0ce1342b241cc9303fddd393efbd0",
            "0ee8f2ff9ffe4fdab12264f1d2bcae29",
            "9612d7be93b14084a5390222d5fd2ea6"
          ]
        },
        "executionInfo": {
          "elapsed": 9473,
          "status": "ok",
          "timestamp": 1743318772815,
          "user": {
            "displayName": "조승혁",
            "userId": "15759752471844115325"
          },
          "user_tz": -540
        },
        "id": "rE-y8sY9HuwP",
        "outputId": "61af698c-fb91-42b9-9bfc-afbb85a77ece"
      },
      "outputs": [
        {
          "name": "stderr",
          "output_type": "stream",
          "text": [
            "Generating train split: 100%|██████████| 120000/120000 [00:00<00:00, 3329253.08 examples/s]\n",
            "Generating train split: 100%|██████████| 120000/120000 [00:00<00:00, 3329253.08 examples/s]\n",
            "Generating test split: 100%|██████████| 7600/7600 [00:00<00:00, 2380813.38 examples/s]\n",
            "\n"
          ]
        }
      ],
      "source": [
        "# MNLI 데이터셋을 위한 사용자 정의 Dataset 클래스\n",
        "class MNLIDataset(Dataset):\n",
        "    def __init__(self, data):\n",
        "        self.data = data\n",
        "        \n",
        "    def __len__(self):\n",
        "        return len(self.data)\n",
        "    \n",
        "    def __getitem__(self, idx):\n",
        "        item = self.data[idx]\n",
        "        return item\n",
        "\n",
        "# 데이터셋 객체 생성\n",
        "train_dataset = MNLIDataset(train_data)\n",
        "test_dataset = MNLIDataset(test_data)\n",
        "\n",
        "# collate_fn 함수 정의: 배치 내의 샘플들을 처리\n",
        "def collate_fn(batch):\n",
        "    premises = [item['premise'] for item in batch]\n",
        "    hypotheses = [item['hypothesis'] for item in batch]\n",
        "    labels = [item['label'] for item in batch]\n",
        "    \n",
        "    # premise와 hypothesis를 [SEP] 토큰으로 구분하여 하나의 시퀀스로 결합\n",
        "    # DistilBERT의 입력 형식: [CLS] premise [SEP] hypothesis [SEP]\n",
        "    inputs = tokenizer(premises, hypotheses, padding=True, truncation=True, return_tensors='pt')\n",
        "    \n",
        "    # 라벨을 텐서로 변환 (MNLI는 3개의 클래스: entailment, contradiction, neutral)\n",
        "    labels = torch.LongTensor(labels)\n",
        "    \n",
        "    return inputs, labels\n",
        "\n",
        "# DataLoader 생성\n",
        "batch_size = 32\n",
        "train_loader = DataLoader(train_dataset, batch_size=batch_size, shuffle=True, collate_fn=collate_fn)\n",
        "test_loader = DataLoader(test_dataset, batch_size=batch_size, shuffle=False, collate_fn=collate_fn)"
      ]
    },
    {
      "cell_type": "markdown",
      "metadata": {},
      "source": [
        "# MNLI 데이터셋 내용 확인하기\n",
        "\n",
        "데이터셋의 구조와 실제 샘플을 확인해보겠습니다."
      ]
    },
    {
      "cell_type": "code",
      "execution_count": null,
      "metadata": {},
      "outputs": [],
      "source": [
        "# 데이터 기본 정보 출력\n",
        "print(f\"학습 데이터 샘플 수: {len(train_data)}\")\n",
        "print(f\"테스트 데이터 샘플 수: {len(test_data)}\")\n",
        "\n",
        "# MNLI 레이블 정의 (0: entailment, 1: neutral, 2: contradiction)\n",
        "label_names = {0: \"entailment\", 1: \"neutral\", 2: \"contradiction\"}\n",
        "print(\"\\n레이블 정의:\")\n",
        "for idx, name in label_names.items():\n",
        "    print(f\"{idx}: {name}\")\n",
        "\n",
        "# 샘플 데이터 확인\n",
        "print(\"\\n샘플 데이터:\")\n",
        "for i in range(3):\n",
        "    sample = train_data[i]\n",
        "    print(f\"\\n샘플 {i+1}:\")\n",
        "    print(f\"전제(Premise): {sample['premise'][:100]}...\")\n",
        "    print(f\"가설(Hypothesis): {sample['hypothesis'][:100]}...\")\n",
        "    print(f\"레이블: {sample['label']} ({label_names[sample['label']]})\")"
      ]
    },
    {
      "cell_type": "markdown",
      "metadata": {},
      "source": [
        "# 클래스 분포 확인하기\n",
        "\n",
        "데이터셋에서 각 클래스의 분포를 확인해보겠습니다."
      ]
    },
    {
      "cell_type": "code",
      "execution_count": null,
      "metadata": {},
      "outputs": [],
      "source": [
        "# 레이블 분포 확인\n",
        "label_counts = {0: 0, 1: 0, 2: 0}\n",
        "for sample in train_data:\n",
        "    label_counts[sample['label']] += 1\n",
        "\n",
        "# 결과 출력\n",
        "print(\"클래스 분포:\")\n",
        "for label, count in label_counts.items():\n",
        "    print(f\"{label_names[label]}: {count} 샘플 ({count/len(train_data)*100:.1f}%)\")\n",
        "\n",
        "# 시각화\n",
        "plt.figure(figsize=(10, 6))\n",
        "plt.bar([label_names[i] for i in range(3)], [label_counts[i] for i in range(3)])\n",
        "plt.title('MNLI 데이터셋 클래스 분포')\n",
        "plt.ylabel('샘플 수')\n",
        "plt.savefig('mnli_class_distribution.png')\n",
        "plt.show()"
      ]
    },
    {
      "cell_type": "markdown",
      "metadata": {
        "id": "bF34XkoYIeEm"
      },
      "source": [
        "# DistilBERT 모델 불러오기\n",
        "\n",
        "사전학습된 DistilBERT 모델을 불러와서 자연어 추론 과제를 위한 분류 모델을 구현합니다."
      ]
    },
    {
      "cell_type": "code",
      "execution_count": null,
      "metadata": {
        "colab": {
          "base_uri": "https://localhost:8080/",
          "height": 585,
          "referenced_widgets": [
            "7c5157ae5d374b53b86549e0b5d2b7fd",
            "ebc7a2ef2dc54a0dbbc953a3e9ae0b2a",
            "25ea627c042047b4b8ebf7303c109658",
            "d457f8a801a24ba28b65ed8c16aec0b7",
            "b4d6977bc5d047e6a76e04e3e5d4645e",
            "9f643a223cb940e0bcc691778c125023",
            "27b8fd6c77d74c108a76ebba5544f39d",
            "1da8f8ace9034c6f90687850f08234da",
            "1069762390904750925fca6d902ada1e",
            "a64a839ed4cd46099c3f670d2b7107d6",
            "b9be76ecb6b04e5084abe699a3f15929"
          ]
        },
        "executionInfo": {
          "elapsed": 8752,
          "status": "ok",
          "timestamp": 1743318781572,
          "user": {
            "displayName": "조승혁",
            "userId": "15759752471844115325"
          },
          "user_tz": -540
        },
        "id": "HJaUp2Vob0U-",
        "outputId": "f56be9d4-4e15-4acd-a05f-aae2e207cff4"
      },
      "outputs": [
        {
          "name": "stderr",
          "output_type": "stream",
          "text": [
            "Using cache found in /Users/semyungpark/.cache/torch/hub/huggingface_pytorch-transformers_main\n",
            "Xet Storage is enabled for this repo, but the 'hf_xet' package is not installed. Falling back to regular HTTP download. For better performance, install the package with: `pip install huggingface_hub[hf_xet]` or `pip install hf_xet`\n",
            "Xet Storage is enabled for this repo, but the 'hf_xet' package is not installed. Falling back to regular HTTP download. For better performance, install the package with: `pip install huggingface_hub[hf_xet]` or `pip install hf_xet`\n"
          ]
        },
        {
          "name": "stderr",
          "output_type": "stream",
          "text": [
            "Using cache found in /Users/semyungpark/.cache/torch/hub/huggingface_pytorch-transformers_main\n",
            "Xet Storage is enabled for this repo, but the 'hf_xet' package is not installed. Falling back to regular HTTP download. For better performance, install the package with: `pip install huggingface_hub[hf_xet]` or `pip install hf_xet`\n",
            "Xet Storage is enabled for this repo, but the 'hf_xet' package is not installed. Falling back to regular HTTP download. For better performance, install the package with: `pip install huggingface_hub[hf_xet]` or `pip install hf_xet`\n"
          ]
        },
        {
          "data": {
            "text/plain": [
              "DistilBertModel(\n",
              "  (embeddings): Embeddings(\n",
              "    (word_embeddings): Embedding(30522, 768, padding_idx=0)\n",
              "    (position_embeddings): Embedding(512, 768)\n",
              "    (LayerNorm): LayerNorm((768,), eps=1e-12, elementwise_affine=True)\n",
              "    (dropout): Dropout(p=0.1, inplace=False)\n",
              "  )\n",
              "  (transformer): Transformer(\n",
              "    (layer): ModuleList(\n",
              "      (0-5): 6 x TransformerBlock(\n",
              "        (attention): DistilBertSdpaAttention(\n",
              "          (dropout): Dropout(p=0.1, inplace=False)\n",
              "          (q_lin): Linear(in_features=768, out_features=768, bias=True)\n",
              "          (k_lin): Linear(in_features=768, out_features=768, bias=True)\n",
              "          (v_lin): Linear(in_features=768, out_features=768, bias=True)\n",
              "          (out_lin): Linear(in_features=768, out_features=768, bias=True)\n",
              "        )\n",
              "        (sa_layer_norm): LayerNorm((768,), eps=1e-12, elementwise_affine=True)\n",
              "        (ffn): FFN(\n",
              "          (dropout): Dropout(p=0.1, inplace=False)\n",
              "          (lin1): Linear(in_features=768, out_features=3072, bias=True)\n",
              "          (lin2): Linear(in_features=3072, out_features=768, bias=True)\n",
              "          (activation): GELUActivation()\n",
              "        )\n",
              "        (output_layer_norm): LayerNorm((768,), eps=1e-12, elementwise_affine=True)\n",
              "      )\n",
              "    )\n",
              "  )\n",
              ")"
            ]
          },
          "execution_count": 5,
          "metadata": {},
          "output_type": "execute_result"
        }
      ],
      "source": [
        "# DistilBERT 모델 로드\n",
        "base_model = torch.hub.load('huggingface/pytorch-transformers', 'model', 'distilbert-base-uncased')\n",
        "\n",
        "# 자연어 추론(NLI)을 위한 모델 정의\n",
        "class NLIClassifier(nn.Module):\n",
        "    def __init__(self):\n",
        "        super().__init__()\n",
        "        \n",
        "        # 사전학습된 DistilBERT 모델을 인코더로 사용\n",
        "        self.encoder = base_model\n",
        "        \n",
        "        # 3개의 클래스(entailment, neutral, contradiction)를 분류하는 분류기\n",
        "        self.classifier = nn.Linear(768, 3)\n",
        "        \n",
        "    def forward(self, inputs):\n",
        "        # 토크나이저의 출력을 인코더에 전달\n",
        "        outputs = self.encoder(inputs['input_ids'], \n",
        "                             attention_mask=inputs['attention_mask'])\n",
        "        \n",
        "        # [CLS] 토큰의 출력을 분류에 사용 (시퀀스의 첫 번째 토큰)\n",
        "        pooled_output = outputs['last_hidden_state'][:, 0]\n",
        "        \n",
        "        # 분류기를 통과시켜 로짓 출력\n",
        "        return self.classifier(pooled_output)\n",
        "\n",
        "# 모델 초기화\n",
        "model = NLIClassifier()"
      ]
    },
    {
      "cell_type": "markdown",
      "metadata": {
        "id": "_hFvSis0JLju"
      },
      "source": [
        "# 모델 학습 준비\n",
        "\n",
        "효율적인 학습을 위해 DistilBERT 인코더 부분은 고정(freeze)하고, 분류기 부분만 학습합니다."
      ]
    },
    {
      "cell_type": "code",
      "execution_count": null,
      "metadata": {
        "id": "uyTciaPZ0KYo"
      },
      "outputs": [],
      "source": [
        "# DistilBERT 인코더 부분 고정 (파라미터 고정)\n",
        "for param in model.encoder.parameters():\n",
        "    param.requires_grad = False\n",
        "\n",
        "# 학습 가능한 파라미터 수 확인\n",
        "trainable_params = sum(p.numel() for p in model.parameters() if p.requires_grad)\n",
        "total_params = sum(p.numel() for p in model.parameters())\n",
        "print(f\"학습 가능한 파라미터: {trainable_params:,} ({trainable_params / total_params:.2%})\")\n",
        "print(f\"전체 파라미터: {total_params:,}\")"
      ]
    },
    {
      "cell_type": "markdown",
      "metadata": {},
      "source": [
        "# 모델 학습 및 평가\n",
        "\n",
        "이제 모델을 학습하고 성능을 평가합니다. M3 맥북을 위해 MPS 가속을 사용합니다."
      ]
    },
    {
      "cell_type": "code",
      "execution_count": null,
      "metadata": {},
      "outputs": [],
      "source": [
        "# 학습 설정\n",
        "from torch.optim import Adam\n",
        "\n",
        "# M3 맥북에서 MPS 디바이스 사용 설정\n",
        "device = torch.device('mps' if torch.backends.mps.is_available() else 'cpu')\n",
        "print(f\"사용 디바이스: {device}\")\n",
        "\n",
        "model = model.to(device)\n",
        "loss_fn = nn.CrossEntropyLoss()\n",
        "optimizer = Adam(model.parameters(), lr=3e-5)\n",
        "n_epochs = 5\n",
        "\n",
        "# 학습 결과 저장을 위한 변수\n",
        "train_losses = []\n",
        "train_accs = []\n",
        "test_accs = []\n",
        "\n",
        "# 정확도 계산 함수\n",
        "def compute_accuracy(model, data_loader):\n",
        "    model.eval()\n",
        "    correct = 0\n",
        "    total = 0\n",
        "    \n",
        "    with torch.no_grad():\n",
        "        for inputs, labels in data_loader:\n",
        "            # 입력을 디바이스로 이동\n",
        "            for key in inputs:\n",
        "                inputs[key] = inputs[key].to(device)\n",
        "            labels = labels.to(device)\n",
        "            \n",
        "            # 모델 예측\n",
        "            outputs = model(inputs)\n",
        "            _, predicted = torch.max(outputs, 1)\n",
        "            \n",
        "            # 정확도 계산\n",
        "            total += labels.size(0)\n",
        "            correct += (predicted == labels).sum().item()\n",
        "            \n",
        "    return correct / total\n",
        "\n",
        "# 학습 루프\n",
        "for epoch in range(n_epochs):\n",
        "    model.train()\n",
        "    epoch_loss = 0.0\n",
        "    \n",
        "    for inputs, labels in train_loader:\n",
        "        # 입력을 디바이스로 이동\n",
        "        for key in inputs:\n",
        "            inputs[key] = inputs[key].to(device)\n",
        "        labels = labels.to(device)\n",
        "        \n",
        "        # 순전파\n",
        "        outputs = model(inputs)\n",
        "        loss = loss_fn(outputs, labels)\n",
        "        \n",
        "        # 역전파 및 가중치 업데이트\n",
        "        optimizer.zero_grad()\n",
        "        loss.backward()\n",
        "        optimizer.step()\n",
        "        \n",
        "        epoch_loss += loss.item()\n",
        "    \n",
        "    # 에포크별 손실 및 정확도 기록\n",
        "    avg_loss = epoch_loss / len(train_loader)\n",
        "    train_losses.append(avg_loss)\n",
        "    \n",
        "    # 훈련 및 테스트 정확도 계산\n",
        "    train_acc = compute_accuracy(model, train_loader)\n",
        "    test_acc = compute_accuracy(model, test_loader)\n",
        "    train_accs.append(train_acc)\n",
        "    test_accs.append(test_acc)\n",
        "    \n",
        "    print(f\"Epoch {epoch+1}/{n_epochs} | Loss: {avg_loss:.4f} | Train Acc: {train_acc:.4f} | Test Acc: {test_acc:.4f}\")"
      ]
    },
    {
      "cell_type": "markdown",
      "metadata": {},
      "source": [
        "# 학습 결과 시각화\n",
        "\n",
        "손실 곡선과 정확도 변화를 시각화하여 모델의 학습 과정을 분석합니다."
      ]
    },
    {
      "cell_type": "code",
      "execution_count": null,
      "metadata": {},
      "outputs": [],
      "source": [
        "# 학습 손실 곡선 그래프 그리기\n",
        "plt.figure(figsize=(12, 5))\n",
        "\n",
        "# 손실 곡선 그래프\n",
        "plt.subplot(1, 2, 1)\n",
        "plt.plot(range(1, n_epochs+1), train_losses, marker='o', linestyle='-', color='blue')\n",
        "plt.title('Training Loss over Epochs')\n",
        "plt.xlabel('Epoch')\n",
        "plt.ylabel('Loss')\n",
        "plt.grid(True)\n",
        "\n",
        "# 정확도 변화 그래프\n",
        "plt.subplot(1, 2, 2)\n",
        "plt.plot(range(1, n_epochs+1), train_accs, marker='o', linestyle='-', color='blue', label='Train Accuracy')\n",
        "plt.plot(range(1, n_epochs+1), test_accs, marker='o', linestyle='-', color='red', label='Test Accuracy')\n",
        "plt.title('Accuracy over Epochs')\n",
        "plt.xlabel('Epoch')\n",
        "plt.ylabel('Accuracy')\n",
        "plt.legend()\n",
        "plt.grid(True)\n",
        "\n",
        "plt.tight_layout()\n",
        "plt.savefig('mnli_training_results.png')\n",
        "plt.show()\n",
        "\n",
        "# 최종 성능 출력\n",
        "print(f\"최종 학습 정확도: {train_accs[-1]:.4f}\")\n",
        "print(f\"최종 테스트 정확도: {test_accs[-1]:.4f}\")"
      ]
    },
    {
      "cell_type": "markdown",
      "metadata": {},
      "source": [
        "# 모델 성능 분석\n",
        "\n",
        "클래스별 성능을 분석하여 모델이 어떤 유형의 추론에 강점과 약점을 가지는지 파악합니다."
      ]
    },
    {
      "cell_type": "code",
      "execution_count": null,
      "metadata": {},
      "outputs": [],
      "source": [
        "# 혼동 행렬(Confusion Matrix) 계산\n",
        "from sklearn.metrics import confusion_matrix, classification_report\n",
        "import seaborn as sns\n",
        "\n",
        "def get_predictions(model, data_loader):\n",
        "    model.eval()\n",
        "    all_preds = []\n",
        "    all_labels = []\n",
        "    \n",
        "    with torch.no_grad():\n",
        "        for inputs, labels in data_loader:\n",
        "            # 입력을 디바이스로 이동\n",
        "            for key in inputs:\n",
        "                inputs[key] = inputs[key].to(device)\n",
        "            \n",
        "            # 예측\n",
        "            outputs = model(inputs)\n",
        "            _, predicted = torch.max(outputs, 1)\n",
        "            \n",
        "            # 예측과 라벨 저장\n",
        "            all_preds.extend(predicted.cpu().numpy())\n",
        "            all_labels.extend(labels.numpy())\n",
        "    \n",
        "    return all_preds, all_labels\n",
        "\n",
        "# 예측 결과 얻기\n",
        "y_pred, y_true = get_predictions(model, test_loader)\n",
        "\n",
        "# 혼동 행렬 생성 및 시각화\n",
        "cm = confusion_matrix(y_true, y_pred)\n",
        "plt.figure(figsize=(10, 8))\n",
        "sns.heatmap(cm, annot=True, fmt='d', cmap='Blues', \n",
        "            xticklabels=list(label_names.values()), \n",
        "            yticklabels=list(label_names.values()))\n",
        "plt.xlabel('Predicted')\n",
        "plt.ylabel('True')\n",
        "plt.title('Confusion Matrix')\n",
        "plt.savefig('mnli_confusion_matrix.png')\n",
        "plt.show()\n",
        "\n",
        "# 분류 보고서 출력\n",
        "report = classification_report(y_true, y_pred, target_names=list(label_names.values()))\n",
        "print(\"분류 보고서:\")\n",
        "print(report)"
      ]
    }
  ],
  "metadata": {
    "accelerator": "GPU",
    "colab": {
      "gpuType": "T4",
      "provenance": [
        {
          "file_id": "1Q8Co2FWHxjftQw3hZmk4SjF3lyse4MZR",
          "timestamp": 1744296513221
        }
      ]
    },
    "kernelspec": {
      "display_name": "mcp",
      "language": "python",
      "name": "python3"
    },
    "language_info": {
      "codemirror_mode": {
        "name": "ipython",
        "version": 3
      },
      "file_extension": ".py",
      "mimetype": "text/x-python",
      "name": "python",
      "nbconvert_exporter": "python",
      "pygments_lexer": "ipython3",
      "version": "3.11.8"
    }
  },
  "nbformat": 4,
  "nbformat_minor": 0
}